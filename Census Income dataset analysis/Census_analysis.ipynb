{
 "cells": [
  {
   "cell_type": "code",
   "execution_count": 20,
   "id": "129b39fa",
   "metadata": {},
   "outputs": [],
   "source": [
    "import pandas as pd\n",
    "import numpy as np\n",
    "import seaborn as sns\n",
    "import matplotlib.pyplot as plt"
   ]
  },
  {
   "cell_type": "code",
   "execution_count": 21,
   "id": "0ab8a53b",
   "metadata": {},
   "outputs": [],
   "source": [
    "census_df=pd.read_csv(r\"adult_census_dataset.csv")"
   ]
  },
  {
   "cell_type": "code",
   "execution_count": 22,
   "id": "02df7dc3",
   "metadata": {},
   "outputs": [
    {
     "data": {
      "text/html": [
       "<div>\n",
       "<style scoped>\n",
       "    .dataframe tbody tr th:only-of-type {\n",
       "        vertical-align: middle;\n",
       "    }\n",
       "\n",
       "    .dataframe tbody tr th {\n",
       "        vertical-align: top;\n",
       "    }\n",
       "\n",
       "    .dataframe thead th {\n",
       "        text-align: right;\n",
       "    }\n",
       "</style>\n",
       "<table border=\"1\" class=\"dataframe\">\n",
       "  <thead>\n",
       "    <tr style=\"text-align: right;\">\n",
       "      <th></th>\n",
       "      <th>age</th>\n",
       "      <th>workclass</th>\n",
       "      <th>fnlwgt</th>\n",
       "      <th>education</th>\n",
       "      <th>education-num</th>\n",
       "      <th>marital-status</th>\n",
       "      <th>occupation</th>\n",
       "      <th>relationship</th>\n",
       "      <th>race</th>\n",
       "      <th>sex</th>\n",
       "      <th>capital-gain</th>\n",
       "      <th>capital-loss</th>\n",
       "      <th>hours-per-week</th>\n",
       "      <th>country</th>\n",
       "      <th>income</th>\n",
       "    </tr>\n",
       "  </thead>\n",
       "  <tbody>\n",
       "    <tr>\n",
       "      <th>0</th>\n",
       "      <td>39</td>\n",
       "      <td>State-gov</td>\n",
       "      <td>77516</td>\n",
       "      <td>Bachelors</td>\n",
       "      <td>13</td>\n",
       "      <td>Never-married</td>\n",
       "      <td>Adm-clerical</td>\n",
       "      <td>Not-in-family</td>\n",
       "      <td>White</td>\n",
       "      <td>Male</td>\n",
       "      <td>2174</td>\n",
       "      <td>0</td>\n",
       "      <td>40</td>\n",
       "      <td>United-States</td>\n",
       "      <td>&lt;=50K</td>\n",
       "    </tr>\n",
       "    <tr>\n",
       "      <th>1</th>\n",
       "      <td>50</td>\n",
       "      <td>Self-emp-not-inc</td>\n",
       "      <td>83311</td>\n",
       "      <td>Bachelors</td>\n",
       "      <td>13</td>\n",
       "      <td>Married-civ-spouse</td>\n",
       "      <td>Exec-managerial</td>\n",
       "      <td>Husband</td>\n",
       "      <td>White</td>\n",
       "      <td>Male</td>\n",
       "      <td>0</td>\n",
       "      <td>0</td>\n",
       "      <td>13</td>\n",
       "      <td>United-States</td>\n",
       "      <td>&lt;=50K</td>\n",
       "    </tr>\n",
       "    <tr>\n",
       "      <th>2</th>\n",
       "      <td>38</td>\n",
       "      <td>Private</td>\n",
       "      <td>215646</td>\n",
       "      <td>HS-grad</td>\n",
       "      <td>9</td>\n",
       "      <td>Divorced</td>\n",
       "      <td>Handlers-cleaners</td>\n",
       "      <td>Not-in-family</td>\n",
       "      <td>White</td>\n",
       "      <td>Male</td>\n",
       "      <td>0</td>\n",
       "      <td>0</td>\n",
       "      <td>40</td>\n",
       "      <td>United-States</td>\n",
       "      <td>&lt;=50K</td>\n",
       "    </tr>\n",
       "    <tr>\n",
       "      <th>3</th>\n",
       "      <td>53</td>\n",
       "      <td>Private</td>\n",
       "      <td>234721</td>\n",
       "      <td>11th</td>\n",
       "      <td>7</td>\n",
       "      <td>Married-civ-spouse</td>\n",
       "      <td>Handlers-cleaners</td>\n",
       "      <td>Husband</td>\n",
       "      <td>Black</td>\n",
       "      <td>Male</td>\n",
       "      <td>0</td>\n",
       "      <td>0</td>\n",
       "      <td>40</td>\n",
       "      <td>United-States</td>\n",
       "      <td>&lt;=50K</td>\n",
       "    </tr>\n",
       "    <tr>\n",
       "      <th>4</th>\n",
       "      <td>28</td>\n",
       "      <td>Private</td>\n",
       "      <td>338409</td>\n",
       "      <td>Bachelors</td>\n",
       "      <td>13</td>\n",
       "      <td>Married-civ-spouse</td>\n",
       "      <td>Prof-specialty</td>\n",
       "      <td>Wife</td>\n",
       "      <td>Black</td>\n",
       "      <td>Female</td>\n",
       "      <td>0</td>\n",
       "      <td>0</td>\n",
       "      <td>40</td>\n",
       "      <td>Cuba</td>\n",
       "      <td>&lt;=50K</td>\n",
       "    </tr>\n",
       "  </tbody>\n",
       "</table>\n",
       "</div>"
      ],
      "text/plain": [
       "   age          workclass  fnlwgt   education  education-num  \\\n",
       "0   39          State-gov   77516   Bachelors             13   \n",
       "1   50   Self-emp-not-inc   83311   Bachelors             13   \n",
       "2   38            Private  215646     HS-grad              9   \n",
       "3   53            Private  234721        11th              7   \n",
       "4   28            Private  338409   Bachelors             13   \n",
       "\n",
       "        marital-status          occupation    relationship    race      sex  \\\n",
       "0        Never-married        Adm-clerical   Not-in-family   White     Male   \n",
       "1   Married-civ-spouse     Exec-managerial         Husband   White     Male   \n",
       "2             Divorced   Handlers-cleaners   Not-in-family   White     Male   \n",
       "3   Married-civ-spouse   Handlers-cleaners         Husband   Black     Male   \n",
       "4   Married-civ-spouse      Prof-specialty            Wife   Black   Female   \n",
       "\n",
       "   capital-gain  capital-loss  hours-per-week         country  income  \n",
       "0          2174             0              40   United-States   <=50K  \n",
       "1             0             0              13   United-States   <=50K  \n",
       "2             0             0              40   United-States   <=50K  \n",
       "3             0             0              40   United-States   <=50K  \n",
       "4             0             0              40            Cuba   <=50K  "
      ]
     },
     "execution_count": 22,
     "metadata": {},
     "output_type": "execute_result"
    }
   ],
   "source": [
    "census_df.head()"
   ]
  },
  {
   "cell_type": "code",
   "execution_count": 23,
   "id": "f1873694",
   "metadata": {},
   "outputs": [
    {
     "data": {
      "text/plain": [
       "(32561, 15)"
      ]
     },
     "execution_count": 23,
     "metadata": {},
     "output_type": "execute_result"
    }
   ],
   "source": [
    "census_df.shape"
   ]
  },
  {
   "cell_type": "code",
   "execution_count": 24,
   "id": "0cb5f267",
   "metadata": {},
   "outputs": [
    {
     "data": {
      "text/plain": [
       " Private             22696\n",
       " Self-emp-not-inc     2541\n",
       " Local-gov            2093\n",
       " ?                    1836\n",
       " State-gov            1298\n",
       " Self-emp-inc         1116\n",
       " Federal-gov           960\n",
       " Without-pay            14\n",
       " Never-worked            7\n",
       "Name: workclass, dtype: int64"
      ]
     },
     "execution_count": 24,
     "metadata": {},
     "output_type": "execute_result"
    }
   ],
   "source": [
    "census_df.workclass.value_counts()"
   ]
  },
  {
   "cell_type": "code",
   "execution_count": 25,
   "id": "d7733742",
   "metadata": {},
   "outputs": [],
   "source": [
    "census_df['workclass']=census_df['workclass'].str.strip()"
   ]
  },
  {
   "cell_type": "code",
   "execution_count": 35,
   "id": "dd1285f5",
   "metadata": {},
   "outputs": [],
   "source": [
    "census_df['occupation']=census_df['occupation'].str.strip()"
   ]
  },
  {
   "cell_type": "code",
   "execution_count": 28,
   "id": "db181829",
   "metadata": {},
   "outputs": [],
   "source": [
    "census_df['education']=census_df['education'].str.strip()\n",
    "census_df['marital-status']=census_df['marital-status'].str.strip()\n",
    "census_df['relationship']=census_df['relationship'].str.strip()\n",
    "census_df['race']=census_df['race'].str.strip()\n",
    "census_df['country']=census_df['country'].str.strip()\n",
    "census_df['income']=census_df['income'].str.strip()"
   ]
  },
  {
   "cell_type": "markdown",
   "id": "82c34385",
   "metadata": {},
   "source": [
    "## Data exploration"
   ]
  },
  {
   "cell_type": "code",
   "execution_count": 30,
   "id": "3fc820c3",
   "metadata": {},
   "outputs": [
    {
     "data": {
      "text/plain": [
       "age               0\n",
       "workclass         0\n",
       "fnlwgt            0\n",
       "education         0\n",
       "education-num     0\n",
       "marital-status    0\n",
       "occupation        0\n",
       "relationship      0\n",
       "race              0\n",
       "sex               0\n",
       "capital-gain      0\n",
       "capital-loss      0\n",
       "hours-per-week    0\n",
       "country           0\n",
       "income            0\n",
       "dtype: int64"
      ]
     },
     "execution_count": 30,
     "metadata": {},
     "output_type": "execute_result"
    }
   ],
   "source": [
    "census_df.isna().sum()"
   ]
  },
  {
   "cell_type": "code",
   "execution_count": 78,
   "id": "0d98a3a3",
   "metadata": {},
   "outputs": [
    {
     "data": {
      "text/html": [
       "<div>\n",
       "<style scoped>\n",
       "    .dataframe tbody tr th:only-of-type {\n",
       "        vertical-align: middle;\n",
       "    }\n",
       "\n",
       "    .dataframe tbody tr th {\n",
       "        vertical-align: top;\n",
       "    }\n",
       "\n",
       "    .dataframe thead th {\n",
       "        text-align: right;\n",
       "    }\n",
       "</style>\n",
       "<table border=\"1\" class=\"dataframe\">\n",
       "  <thead>\n",
       "    <tr style=\"text-align: right;\">\n",
       "      <th></th>\n",
       "      <th>count</th>\n",
       "      <th>mean</th>\n",
       "      <th>std</th>\n",
       "      <th>min</th>\n",
       "      <th>25%</th>\n",
       "      <th>50%</th>\n",
       "      <th>75%</th>\n",
       "      <th>max</th>\n",
       "    </tr>\n",
       "  </thead>\n",
       "  <tbody>\n",
       "    <tr>\n",
       "      <th>age</th>\n",
       "      <td>32561.0</td>\n",
       "      <td>38.581647</td>\n",
       "      <td>13.640433</td>\n",
       "      <td>17.0</td>\n",
       "      <td>28.0</td>\n",
       "      <td>37.0</td>\n",
       "      <td>48.0</td>\n",
       "      <td>90.0</td>\n",
       "    </tr>\n",
       "    <tr>\n",
       "      <th>fnlwgt</th>\n",
       "      <td>32561.0</td>\n",
       "      <td>189778.366512</td>\n",
       "      <td>105549.977697</td>\n",
       "      <td>12285.0</td>\n",
       "      <td>117827.0</td>\n",
       "      <td>178356.0</td>\n",
       "      <td>237051.0</td>\n",
       "      <td>1484705.0</td>\n",
       "    </tr>\n",
       "    <tr>\n",
       "      <th>education-num</th>\n",
       "      <td>32561.0</td>\n",
       "      <td>10.080679</td>\n",
       "      <td>2.572720</td>\n",
       "      <td>1.0</td>\n",
       "      <td>9.0</td>\n",
       "      <td>10.0</td>\n",
       "      <td>12.0</td>\n",
       "      <td>16.0</td>\n",
       "    </tr>\n",
       "    <tr>\n",
       "      <th>capital-gain</th>\n",
       "      <td>32561.0</td>\n",
       "      <td>1077.648844</td>\n",
       "      <td>7385.292085</td>\n",
       "      <td>0.0</td>\n",
       "      <td>0.0</td>\n",
       "      <td>0.0</td>\n",
       "      <td>0.0</td>\n",
       "      <td>99999.0</td>\n",
       "    </tr>\n",
       "    <tr>\n",
       "      <th>capital-loss</th>\n",
       "      <td>32561.0</td>\n",
       "      <td>87.303830</td>\n",
       "      <td>402.960219</td>\n",
       "      <td>0.0</td>\n",
       "      <td>0.0</td>\n",
       "      <td>0.0</td>\n",
       "      <td>0.0</td>\n",
       "      <td>4356.0</td>\n",
       "    </tr>\n",
       "    <tr>\n",
       "      <th>hours-per-week</th>\n",
       "      <td>32561.0</td>\n",
       "      <td>40.437456</td>\n",
       "      <td>12.347429</td>\n",
       "      <td>1.0</td>\n",
       "      <td>40.0</td>\n",
       "      <td>40.0</td>\n",
       "      <td>45.0</td>\n",
       "      <td>99.0</td>\n",
       "    </tr>\n",
       "    <tr>\n",
       "      <th>income</th>\n",
       "      <td>32561.0</td>\n",
       "      <td>0.240810</td>\n",
       "      <td>0.427581</td>\n",
       "      <td>0.0</td>\n",
       "      <td>0.0</td>\n",
       "      <td>0.0</td>\n",
       "      <td>0.0</td>\n",
       "      <td>1.0</td>\n",
       "    </tr>\n",
       "  </tbody>\n",
       "</table>\n",
       "</div>"
      ],
      "text/plain": [
       "                  count           mean            std      min       25%  \\\n",
       "age             32561.0      38.581647      13.640433     17.0      28.0   \n",
       "fnlwgt          32561.0  189778.366512  105549.977697  12285.0  117827.0   \n",
       "education-num   32561.0      10.080679       2.572720      1.0       9.0   \n",
       "capital-gain    32561.0    1077.648844    7385.292085      0.0       0.0   \n",
       "capital-loss    32561.0      87.303830     402.960219      0.0       0.0   \n",
       "hours-per-week  32561.0      40.437456      12.347429      1.0      40.0   \n",
       "income          32561.0       0.240810       0.427581      0.0       0.0   \n",
       "\n",
       "                     50%       75%        max  \n",
       "age                 37.0      48.0       90.0  \n",
       "fnlwgt          178356.0  237051.0  1484705.0  \n",
       "education-num       10.0      12.0       16.0  \n",
       "capital-gain         0.0       0.0    99999.0  \n",
       "capital-loss         0.0       0.0     4356.0  \n",
       "hours-per-week      40.0      45.0       99.0  \n",
       "income               0.0       0.0        1.0  "
      ]
     },
     "execution_count": 78,
     "metadata": {},
     "output_type": "execute_result"
    }
   ],
   "source": [
    "###Summary statistics of continous variables\n",
    "\n",
    "census_df.describe().T"
   ]
  },
  {
   "cell_type": "code",
   "execution_count": 36,
   "id": "b0ae20e2",
   "metadata": {},
   "outputs": [
    {
     "data": {
      "text/plain": [
       "Private             22696\n",
       "Self-emp-not-inc     2541\n",
       "Local-gov            2093\n",
       "?                    1836\n",
       "State-gov            1298\n",
       "Self-emp-inc         1116\n",
       "Federal-gov           960\n",
       "Without-pay            14\n",
       "Never-worked            7\n",
       "Name: workclass, dtype: int64"
      ]
     },
     "execution_count": 36,
     "metadata": {},
     "output_type": "execute_result"
    }
   ],
   "source": [
    "###Exploring categorial Variables\n",
    "\n",
    "census_df.workclass.value_counts()"
   ]
  },
  {
   "cell_type": "code",
   "execution_count": 37,
   "id": "1026d31b",
   "metadata": {},
   "outputs": [
    {
     "data": {
      "text/plain": [
       "Prof-specialty       4140\n",
       "Craft-repair         4099\n",
       "Exec-managerial      4066\n",
       "Adm-clerical         3770\n",
       "Sales                3650\n",
       "Other-service        3295\n",
       "Machine-op-inspct    2002\n",
       "?                    1843\n",
       "Transport-moving     1597\n",
       "Handlers-cleaners    1370\n",
       "Farming-fishing       994\n",
       "Tech-support          928\n",
       "Protective-serv       649\n",
       "Priv-house-serv       149\n",
       "Armed-Forces            9\n",
       "Name: occupation, dtype: int64"
      ]
     },
     "execution_count": 37,
     "metadata": {},
     "output_type": "execute_result"
    }
   ],
   "source": [
    "census_df.occupation.value_counts()"
   ]
  },
  {
   "cell_type": "code",
   "execution_count": 39,
   "id": "31f99edc",
   "metadata": {},
   "outputs": [
    {
     "name": "stderr",
     "output_type": "stream",
     "text": [
      "C:\\ProgramData\\Anaconda3\\lib\\site-packages\\seaborn\\_decorators.py:36: FutureWarning: Pass the following variable as a keyword arg: x. From version 0.12, the only valid positional argument will be `data`, and passing other arguments without an explicit keyword will result in an error or misinterpretation.\n",
      "  warnings.warn(\n"
     ]
    },
    {
     "data": {
      "image/png": "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\n",
      "text/plain": [
       "<Figure size 360x432 with 1 Axes>"
      ]
     },
     "metadata": {
      "needs_background": "light"
     },
     "output_type": "display_data"
    }
   ],
   "source": [
    "#Distribution of target class label by gender\n",
    "\n",
    "plt.figure(figsize=(5,6))\n",
    "# plot value_counts of Series\n",
    "\n",
    "\n",
    "\n",
    "\n",
    "sns.countplot(census_df['income'],hue='sex',data=census_df)\n",
    "plt.savefig('countplot_census1.png',dpi=800,bbox_inches = 'tight')"
   ]
  },
  {
   "cell_type": "code",
   "execution_count": 40,
   "id": "b44aaf4b",
   "metadata": {
    "scrolled": true
   },
   "outputs": [
    {
     "name": "stderr",
     "output_type": "stream",
     "text": [
      "C:\\ProgramData\\Anaconda3\\lib\\site-packages\\seaborn\\_decorators.py:36: FutureWarning: Pass the following variable as a keyword arg: x. From version 0.12, the only valid positional argument will be `data`, and passing other arguments without an explicit keyword will result in an error or misinterpretation.\n",
      "  warnings.warn(\n"
     ]
    },
    {
     "data": {
      "image/png": "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\n",
      "text/plain": [
       "<Figure size 432x432 with 1 Axes>"
      ]
     },
     "metadata": {
      "needs_background": "light"
     },
     "output_type": "display_data"
    }
   ],
   "source": [
    "#Distribution of target class label by Race\n",
    "plt.figure(figsize=(6,6))\n",
    "# plot value_counts of Series\n",
    "\n",
    "\n",
    "\n",
    "\n",
    "sns.countplot(census_df['income'],hue='race',data=census_df)\n",
    "plt.savefig('countplot_census2.png',dpi=800,bbox_inches = 'tight')"
   ]
  },
  {
   "cell_type": "markdown",
   "id": "1312779c",
   "metadata": {},
   "source": [
    "## Data preprocessing"
   ]
  },
  {
   "cell_type": "code",
   "execution_count": 41,
   "id": "cd798a57",
   "metadata": {},
   "outputs": [],
   "source": [
    "##Filling ? values with the most frequent value\n",
    "census_df['workclass'] = census_df['workclass'].replace('?', 'Private')\n",
    "\n"
   ]
  },
  {
   "cell_type": "code",
   "execution_count": 45,
   "id": "ed48ce1c",
   "metadata": {},
   "outputs": [],
   "source": [
    "census_df['occupation'] = census_df['occupation'].replace('?', 'Prof-specialty')\n",
    "census_df['country'] = census_df['country'].replace('?', 'United-States')"
   ]
  },
  {
   "cell_type": "code",
   "execution_count": 47,
   "id": "fcbec769",
   "metadata": {},
   "outputs": [],
   "source": [
    "# education Category-Reducing the number of categories for the variable\n",
    "\n",
    "census_df.education= census_df.education.replace(['Preschool', '1st-4th', '5th-6th', '7th-8th', '9th','10th', '11th', '12th'], 'school')\n",
    "census_df.education = census_df.education.replace('HS-grad', 'high school')\n",
    "census_df.education = census_df.education.replace(['Assoc-voc', 'Assoc-acdm', 'Prof-school', 'Some-college'], 'higher')\n",
    "census_df.education = census_df.education.replace('Bachelors', 'undergrad')\n",
    "census_df.education = census_df.education.replace('Masters', 'grad')\n",
    "census_df.education = census_df.education.replace('Doctorate', 'doc')"
   ]
  },
  {
   "cell_type": "code",
   "execution_count": 48,
   "id": "2fce5a7b",
   "metadata": {},
   "outputs": [
    {
     "data": {
      "text/plain": [
       "high school    10501\n",
       "higher         10316\n",
       "undergrad       5355\n",
       "school          4253\n",
       "grad            1723\n",
       "doc              413\n",
       "Name: education, dtype: int64"
      ]
     },
     "execution_count": 48,
     "metadata": {},
     "output_type": "execute_result"
    }
   ],
   "source": [
    "census_df.education.value_counts()"
   ]
  },
  {
   "cell_type": "code",
   "execution_count": 50,
   "id": "40517ffc",
   "metadata": {},
   "outputs": [
    {
     "data": {
      "text/plain": [
       "Married-civ-spouse       14976\n",
       "Never-married            10683\n",
       "Divorced                  4443\n",
       "Separated                 1025\n",
       "Widowed                    993\n",
       "Married-spouse-absent      418\n",
       "Married-AF-spouse           23\n",
       "Name: marital-status, dtype: int64"
      ]
     },
     "execution_count": 50,
     "metadata": {},
     "output_type": "execute_result"
    }
   ],
   "source": [
    "census_df['marital-status'].value_counts()"
   ]
  },
  {
   "cell_type": "code",
   "execution_count": 51,
   "id": "b2ae852c",
   "metadata": {},
   "outputs": [],
   "source": [
    "#martial status\n",
    "census_df['marital-status']= census_df['marital-status'].replace(['Married-civ-spouse', 'Married-AF-spouse'], 'married')\n",
    "census_df['marital-status']= census_df['marital-status'].replace(['Never-married'], 'not-married')\n",
    "census_df['marital-status']= census_df['marital-status'].replace(['Divorced', 'Separated','Widowed',\n",
    "                                                   'Married-spouse-absent'], 'other')"
   ]
  },
  {
   "cell_type": "code",
   "execution_count": 52,
   "id": "46b4eea7",
   "metadata": {},
   "outputs": [
    {
     "data": {
      "text/plain": [
       "married        14999\n",
       "not-married    10683\n",
       "other           6879\n",
       "Name: marital-status, dtype: int64"
      ]
     },
     "execution_count": 52,
     "metadata": {},
     "output_type": "execute_result"
    }
   ],
   "source": [
    "census_df['marital-status'].value_counts()"
   ]
  },
  {
   "cell_type": "code",
   "execution_count": 53,
   "id": "0553e5d6",
   "metadata": {},
   "outputs": [],
   "source": [
    "# income\n",
    "census_df.income = census_df.income.replace('<=50K', 0)\n",
    "census_df.income = census_df.income.replace('>50K', 1)"
   ]
  },
  {
   "cell_type": "code",
   "execution_count": 54,
   "id": "43bbe8f9",
   "metadata": {},
   "outputs": [
    {
     "data": {
      "text/plain": [
       "0    24720\n",
       "1     7841\n",
       "Name: income, dtype: int64"
      ]
     },
     "execution_count": 54,
     "metadata": {},
     "output_type": "execute_result"
    }
   ],
   "source": [
    "census_df['income'].value_counts()"
   ]
  },
  {
   "cell_type": "code",
   "execution_count": 79,
   "id": "c5754ca8",
   "metadata": {},
   "outputs": [
    {
     "data": {
      "image/png": "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\n",
      "text/plain": [
       "<Figure size 432x288 with 2 Axes>"
      ]
     },
     "metadata": {
      "needs_background": "light"
     },
     "output_type": "display_data"
    }
   ],
   "source": [
    "##Plotting the correlation heatmap\n",
    "\n",
    "sns.heatmap(census_df.corr(), annot=True);\n",
    "plt.savefig('heatmap.png',dpi=800,bbox_inches = 'tight')"
   ]
  },
  {
   "cell_type": "code",
   "execution_count": 56,
   "id": "27fc73d8",
   "metadata": {},
   "outputs": [
    {
     "data": {
      "text/html": [
       "<div>\n",
       "<style scoped>\n",
       "    .dataframe tbody tr th:only-of-type {\n",
       "        vertical-align: middle;\n",
       "    }\n",
       "\n",
       "    .dataframe tbody tr th {\n",
       "        vertical-align: top;\n",
       "    }\n",
       "\n",
       "    .dataframe thead th {\n",
       "        text-align: right;\n",
       "    }\n",
       "</style>\n",
       "<table border=\"1\" class=\"dataframe\">\n",
       "  <thead>\n",
       "    <tr style=\"text-align: right;\">\n",
       "      <th></th>\n",
       "      <th>age</th>\n",
       "      <th>workclass</th>\n",
       "      <th>fnlwgt</th>\n",
       "      <th>education</th>\n",
       "      <th>education-num</th>\n",
       "      <th>marital-status</th>\n",
       "      <th>occupation</th>\n",
       "      <th>relationship</th>\n",
       "      <th>race</th>\n",
       "      <th>sex</th>\n",
       "      <th>capital-gain</th>\n",
       "      <th>capital-loss</th>\n",
       "      <th>hours-per-week</th>\n",
       "      <th>country</th>\n",
       "      <th>income</th>\n",
       "    </tr>\n",
       "  </thead>\n",
       "  <tbody>\n",
       "    <tr>\n",
       "      <th>0</th>\n",
       "      <td>22</td>\n",
       "      <td>6</td>\n",
       "      <td>2671</td>\n",
       "      <td>5</td>\n",
       "      <td>12</td>\n",
       "      <td>1</td>\n",
       "      <td>0</td>\n",
       "      <td>1</td>\n",
       "      <td>4</td>\n",
       "      <td>1</td>\n",
       "      <td>25</td>\n",
       "      <td>0</td>\n",
       "      <td>39</td>\n",
       "      <td>38</td>\n",
       "      <td>0</td>\n",
       "    </tr>\n",
       "    <tr>\n",
       "      <th>1</th>\n",
       "      <td>33</td>\n",
       "      <td>5</td>\n",
       "      <td>2926</td>\n",
       "      <td>5</td>\n",
       "      <td>12</td>\n",
       "      <td>0</td>\n",
       "      <td>3</td>\n",
       "      <td>0</td>\n",
       "      <td>4</td>\n",
       "      <td>1</td>\n",
       "      <td>0</td>\n",
       "      <td>0</td>\n",
       "      <td>12</td>\n",
       "      <td>38</td>\n",
       "      <td>0</td>\n",
       "    </tr>\n",
       "    <tr>\n",
       "      <th>2</th>\n",
       "      <td>21</td>\n",
       "      <td>3</td>\n",
       "      <td>14086</td>\n",
       "      <td>2</td>\n",
       "      <td>8</td>\n",
       "      <td>2</td>\n",
       "      <td>5</td>\n",
       "      <td>1</td>\n",
       "      <td>4</td>\n",
       "      <td>1</td>\n",
       "      <td>0</td>\n",
       "      <td>0</td>\n",
       "      <td>39</td>\n",
       "      <td>38</td>\n",
       "      <td>0</td>\n",
       "    </tr>\n",
       "    <tr>\n",
       "      <th>3</th>\n",
       "      <td>36</td>\n",
       "      <td>3</td>\n",
       "      <td>15336</td>\n",
       "      <td>4</td>\n",
       "      <td>6</td>\n",
       "      <td>0</td>\n",
       "      <td>5</td>\n",
       "      <td>0</td>\n",
       "      <td>2</td>\n",
       "      <td>1</td>\n",
       "      <td>0</td>\n",
       "      <td>0</td>\n",
       "      <td>39</td>\n",
       "      <td>38</td>\n",
       "      <td>0</td>\n",
       "    </tr>\n",
       "    <tr>\n",
       "      <th>4</th>\n",
       "      <td>11</td>\n",
       "      <td>3</td>\n",
       "      <td>19355</td>\n",
       "      <td>5</td>\n",
       "      <td>12</td>\n",
       "      <td>0</td>\n",
       "      <td>9</td>\n",
       "      <td>5</td>\n",
       "      <td>2</td>\n",
       "      <td>0</td>\n",
       "      <td>0</td>\n",
       "      <td>0</td>\n",
       "      <td>39</td>\n",
       "      <td>4</td>\n",
       "      <td>0</td>\n",
       "    </tr>\n",
       "  </tbody>\n",
       "</table>\n",
       "</div>"
      ],
      "text/plain": [
       "   age  workclass  fnlwgt  education  education-num  marital-status  \\\n",
       "0   22          6    2671          5             12               1   \n",
       "1   33          5    2926          5             12               0   \n",
       "2   21          3   14086          2              8               2   \n",
       "3   36          3   15336          4              6               0   \n",
       "4   11          3   19355          5             12               0   \n",
       "\n",
       "   occupation  relationship  race  sex  capital-gain  capital-loss  \\\n",
       "0           0             1     4    1            25             0   \n",
       "1           3             0     4    1             0             0   \n",
       "2           5             1     4    1             0             0   \n",
       "3           5             0     2    1             0             0   \n",
       "4           9             5     2    0             0             0   \n",
       "\n",
       "   hours-per-week  country  income  \n",
       "0              39       38       0  \n",
       "1              12       38       0  \n",
       "2              39       38       0  \n",
       "3              39       38       0  \n",
       "4              39        4       0  "
      ]
     },
     "execution_count": 56,
     "metadata": {},
     "output_type": "execute_result"
    }
   ],
   "source": [
    "###To transfrom categoricalvariables into numerical values we shall perform label encoding\n",
    "\n",
    "from sklearn.preprocessing import LabelEncoder\n",
    "\n",
    "df1= census_df.copy()\n",
    "df1= df1.apply(LabelEncoder().fit_transform)\n",
    "df1.head()"
   ]
  },
  {
   "cell_type": "code",
   "execution_count": 59,
   "id": "97d184c1",
   "metadata": {},
   "outputs": [],
   "source": [
    "###Now Feature scaling is performed\n",
    "from sklearn.preprocessing import StandardScaler\n",
    "ss= StandardScaler().fit(df1.drop('income', axis=1))\n",
    "X= ss.transform(df1.drop('income', axis=1))\n",
    "y= census_df['income']"
   ]
  },
  {
   "cell_type": "markdown",
   "id": "aaf4d3ac",
   "metadata": {},
   "source": [
    "## Model Building"
   ]
  },
  {
   "cell_type": "code",
   "execution_count": 60,
   "id": "e59c9fc5",
   "metadata": {},
   "outputs": [],
   "source": [
    "from sklearn.model_selection import train_test_split\n",
    "X_train, X_test, y_train, y_test = train_test_split(X, y, test_size=0.2, random_state=10)"
   ]
  },
  {
   "cell_type": "code",
   "execution_count": 86,
   "id": "1f681b49",
   "metadata": {},
   "outputs": [],
   "source": [
    "from sklearn.svm import SVC\n",
    "model1 = SVC(kernel='linear')"
   ]
  },
  {
   "cell_type": "code",
   "execution_count": 87,
   "id": "fa173877",
   "metadata": {},
   "outputs": [
    {
     "data": {
      "text/plain": [
       "SVC(kernel='linear')"
      ]
     },
     "execution_count": 87,
     "metadata": {},
     "output_type": "execute_result"
    }
   ],
   "source": [
    "model1.fit(X_train,y_train)"
   ]
  },
  {
   "cell_type": "code",
   "execution_count": 88,
   "id": "888657c8",
   "metadata": {},
   "outputs": [
    {
     "data": {
      "text/plain": [
       "0.8307999385843697"
      ]
     },
     "execution_count": 88,
     "metadata": {},
     "output_type": "execute_result"
    }
   ],
   "source": [
    "model1.score(X_test,y_test)"
   ]
  },
  {
   "cell_type": "code",
   "execution_count": 89,
   "id": "1f7dd9ae",
   "metadata": {},
   "outputs": [],
   "source": [
    "from sklearn.svm import SVC\n",
    "model2 = SVC(kernel='rbf')"
   ]
  },
  {
   "cell_type": "code",
   "execution_count": 90,
   "id": "4e0df115",
   "metadata": {},
   "outputs": [
    {
     "data": {
      "text/plain": [
       "SVC()"
      ]
     },
     "execution_count": 90,
     "metadata": {},
     "output_type": "execute_result"
    }
   ],
   "source": [
    "model2.fit(X_train,y_train)"
   ]
  },
  {
   "cell_type": "code",
   "execution_count": null,
   "id": "1d2d3604",
   "metadata": {},
   "outputs": [],
   "source": []
  },
  {
   "cell_type": "code",
   "execution_count": 91,
   "id": "7ec23947",
   "metadata": {},
   "outputs": [
    {
     "data": {
      "text/plain": [
       "0.8441578381698143"
      ]
     },
     "execution_count": 91,
     "metadata": {},
     "output_type": "execute_result"
    }
   ],
   "source": [
    "model2.score(X_test,y_test)"
   ]
  },
  {
   "cell_type": "code",
   "execution_count": 92,
   "id": "2ba445c0",
   "metadata": {},
   "outputs": [],
   "source": [
    "from sklearn.neighbors import KNeighborsClassifier\n",
    "model3 = KNeighborsClassifier(n_neighbors=10)"
   ]
  },
  {
   "cell_type": "code",
   "execution_count": 94,
   "id": "e3e7df31",
   "metadata": {},
   "outputs": [
    {
     "data": {
      "text/plain": [
       "KNeighborsClassifier(n_neighbors=10)"
      ]
     },
     "execution_count": 94,
     "metadata": {},
     "output_type": "execute_result"
    }
   ],
   "source": [
    "model3.fit(X_train,y_train)"
   ]
  },
  {
   "cell_type": "code",
   "execution_count": 95,
   "id": "968b9f86",
   "metadata": {},
   "outputs": [
    {
     "data": {
      "text/plain": [
       "0.8412405957316137"
      ]
     },
     "execution_count": 95,
     "metadata": {},
     "output_type": "execute_result"
    }
   ],
   "source": [
    "model3.score(X_test,y_test)"
   ]
  },
  {
   "cell_type": "code",
   "execution_count": 98,
   "id": "62c3ba0b",
   "metadata": {},
   "outputs": [
    {
     "data": {
      "text/plain": [
       "RandomForestClassifier()"
      ]
     },
     "execution_count": 98,
     "metadata": {},
     "output_type": "execute_result"
    }
   ],
   "source": [
    "from sklearn.ensemble import RandomForestClassifier\n",
    "model4 = RandomForestClassifier(n_estimators=100)\n",
    "model4.fit(X_train, y_train)"
   ]
  },
  {
   "cell_type": "code",
   "execution_count": 99,
   "id": "3dab9547",
   "metadata": {},
   "outputs": [
    {
     "data": {
      "text/plain": [
       "0.8527560264087211"
      ]
     },
     "execution_count": 99,
     "metadata": {},
     "output_type": "execute_result"
    }
   ],
   "source": [
    "model4.score(X_test,y_test)"
   ]
  },
  {
   "cell_type": "code",
   "execution_count": 100,
   "id": "87edfc07",
   "metadata": {},
   "outputs": [
    {
     "data": {
      "image/png": "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\n",
      "text/plain": [
       "<Figure size 432x288 with 2 Axes>"
      ]
     },
     "metadata": {
      "needs_background": "light"
     },
     "output_type": "display_data"
    }
   ],
   "source": [
    "from sklearn.metrics import plot_confusion_matrix\n",
    "disp= plot_confusion_matrix(model4,X_test,y_test,cmap='Blues')"
   ]
  },
  {
   "cell_type": "code",
   "execution_count": null,
   "id": "12419c83",
   "metadata": {},
   "outputs": [],
   "source": []
  }
 ],
 "metadata": {
  "kernelspec": {
   "display_name": "Python 3 (ipykernel)",
   "language": "python",
   "name": "python3"
  },
  "language_info": {
   "codemirror_mode": {
    "name": "ipython",
    "version": 3
   },
   "file_extension": ".py",
   "mimetype": "text/x-python",
   "name": "python",
   "nbconvert_exporter": "python",
   "pygments_lexer": "ipython3",
   "version": "3.9.7"
  }
 },
 "nbformat": 4,
 "nbformat_minor": 5
}
